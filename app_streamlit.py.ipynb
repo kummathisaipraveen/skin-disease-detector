{
 "cells": [
  {
   "cell_type": "code",
   "execution_count": 7,
   "id": "2f94c72c-9861-428f-85ce-95616531b8f1",
   "metadata": {},
   "outputs": [
    {
     "name": "stderr",
     "output_type": "stream",
     "text": [
      "WARNING:absl:Compiled the loaded model, but the compiled metrics have yet to be built. `model.compile_metrics` will be empty until you train or evaluate the model.\n",
      "2025-03-01 20:58:13.824 Thread 'MainThread': missing ScriptRunContext! This warning can be ignored when running in bare mode.\n",
      "2025-03-01 20:58:13.826 Thread 'MainThread': missing ScriptRunContext! This warning can be ignored when running in bare mode.\n",
      "2025-03-01 20:58:13.828 Thread 'MainThread': missing ScriptRunContext! This warning can be ignored when running in bare mode.\n",
      "2025-03-01 20:58:13.829 Thread 'MainThread': missing ScriptRunContext! This warning can be ignored when running in bare mode.\n",
      "2025-03-01 20:58:13.832 Thread 'MainThread': missing ScriptRunContext! This warning can be ignored when running in bare mode.\n",
      "2025-03-01 20:58:13.834 Thread 'MainThread': missing ScriptRunContext! This warning can be ignored when running in bare mode.\n",
      "C:\\Users\\91779\\AppData\\Local\\Temp\\ipykernel_15048\\1611647163.py:54: UserWarning: FigureCanvasAgg is non-interactive, and thus cannot be shown\n",
      "  plt.show()\n"
     ]
    },
    {
     "name": "stdout",
     "output_type": "stream",
     "text": [
      "\u001b[1m1/1\u001b[0m \u001b[32m━━━━━━━━━━━━━━━━━━━━\u001b[0m\u001b[37m\u001b[0m \u001b[1m3s\u001b[0m 3s/step\n",
      "Predicted Skin Disease: Melanoma\n",
      "Precautions: Use sunscreen, avoid excessive sun exposure, consult a dermatologist.\n"
     ]
    }
   ],
   "source": [
    "import streamlit as st\n",
    "import numpy as np\n",
    "import tensorflow as tf\n",
    "from PIL import Image\n",
    "\n",
    "# Load the trained model # Update with the correct path to your model\n",
    "model = tf.keras.models.load_model(\"skin_disease_model.h5\")\n",
    "\n",
    "# import cv2\n",
    "import numpy as np\n",
    "\n",
    "def preprocess_image(image_path):\n",
    "    img = cv2.imread(image_path)\n",
    "    img = cv2.resize(img, (224, 224))  # Change based on your model input size\n",
    "    img = img / 255.0  # Normalize (if your model expects it)\n",
    "    img = np.expand_dims(img, axis=0)  # Add batch dimension\n",
    "    return img\n",
    "\n",
    "\n",
    "# Streamlit app\n",
    "st.title(\"Skin Disease Detection\")\n",
    "st.write(\"Upload an image of a skin condition to get predictions.\")\n",
    "\n",
    "# Upload image\n",
    "import numpy as np\n",
    "import cv2\n",
    "import matplotlib.pyplot as plt\n",
    "\n",
    "def get_precautions(disease):\n",
    "    PRECAUTIONS = {\n",
    "        'Acne': \"Keep your skin clean, avoid oily food, use non-comedogenic products.\",\n",
    "        'Eczema': \"Moisturize regularly, avoid allergens, use mild soaps.\",\n",
    "        'Psoriasis': \"Keep skin moisturized, avoid stress, use medicated creams.\",\n",
    "        'Rosacea': \"Avoid triggers like spicy food and alcohol, use gentle skincare.\",\n",
    "        'Ringworm': \"Maintain hygiene, avoid sharing personal items, use antifungal creams.\",\n",
    "        'Melanoma': \"Use sunscreen, avoid excessive sun exposure, consult a dermatologist.\",\n",
    "        'Dermatitis': \"Use hypoallergenic products, avoid irritants, apply soothing lotions.\",\n",
    "        'Urticaria': \"Avoid allergens, take antihistamines, manage stress.\",\n",
    "        'Vitiligo': \"Protect skin from the sun, use prescribed treatments, consult a dermatologist.\",\n",
    "        'Lupus': \"Avoid sun exposure, manage stress, follow prescribed medication.\"\n",
    "    }\n",
    "    return PRECAUTIONS.get(disease, \"No specific precautions available.\")\n",
    "\n",
    "# Load and preprocess the image\n",
    "image_path = r\"C:\\Users\\91779\\Downloads\\m1.jpg\"  # Replace with your test image\n",
    "img = preprocess_image(image_path)\n",
    "\n",
    "# Display the input image\n",
    "original_img = cv2.imread(image_path)\n",
    "original_img = cv2.cvtColor(original_img, cv2.COLOR_BGR2RGB)\n",
    "plt.imshow(original_img)\n",
    "plt.axis('off')\n",
    "plt.title(\"Input Image\")\n",
    "plt.show()\n",
    "\n",
    "# Predict the skin disease\n",
    "prediction = model.predict(img)\n",
    "CLASS_NAMES = ['Acne', 'Eczema', 'Psoriasis', 'Rosacea', 'Ringworm', \n",
    "               'Melanoma', 'Dermatitis', 'Urticaria', 'Vitiligo', 'Lupus']\n",
    "predicted_label = CLASS_NAMES[np.argmax(prediction)]\n",
    "\n",
    "# Get precautions for the predicted disease\n",
    "precautions = get_precautions(predicted_label)\n",
    "\n",
    "# Print the results\n",
    "print(f\"Predicted Skin Disease: {predicted_label}\")\n",
    "print(f\"Precautions: {precautions}\")\n"
   ]
  },
  {
   "cell_type": "code",
   "execution_count": null,
   "id": "1323b3d0-81a1-4c6b-8470-097cae70c40e",
   "metadata": {},
   "outputs": [],
   "source": []
  }
 ],
 "metadata": {
  "kernelspec": {
   "display_name": "Python 3 (ipykernel)",
   "language": "python",
   "name": "python3"
  },
  "language_info": {
   "codemirror_mode": {
    "name": "ipython",
    "version": 3
   },
   "file_extension": ".py",
   "mimetype": "text/x-python",
   "name": "python",
   "nbconvert_exporter": "python",
   "pygments_lexer": "ipython3",
   "version": "3.11.8"
  }
 },
 "nbformat": 4,
 "nbformat_minor": 5
}
